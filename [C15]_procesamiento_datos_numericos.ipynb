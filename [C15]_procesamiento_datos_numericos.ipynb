{
 "cells": [
  {
   "cell_type": "code",
   "execution_count": 1,
   "metadata": {},
   "outputs": [],
   "source": [
    "import timeit\n",
    "import numpy as np\n",
    "import pandas as pd\n",
    "import matplotlib.pyplot as plt\n",
    "from sklearn import datasets, linear_model\n",
    "\n",
    "X, y = datasets.load_diabetes(return_X_y=True)\n",
    "raw = X[:, None, 2]"
   ]
  },
  {
   "cell_type": "markdown",
   "metadata": {},
   "source": [
    "Detalles del data set: https://scikit-learn.org/stable/modules/generated/sklearn.datasets.load_diabetes.html"
   ]
  },
  {
   "cell_type": "markdown",
   "metadata": {},
   "source": [
    "#### Reglas de escalamiento"
   ]
  },
  {
   "cell_type": "code",
   "execution_count": 3,
   "metadata": {},
   "outputs": [
    {
     "data": {
      "text/plain": [
       "(array([32., 66., 98., 90., 64., 50., 23., 12.,  5.,  2.]),\n",
       " array([-1. , -0.8, -0.6, -0.4, -0.2,  0. ,  0.2,  0.4,  0.6,  0.8,  1. ]),\n",
       " <BarContainer object of 10 artists>)"
      ]
     },
     "execution_count": 3,
     "metadata": {},
     "output_type": "execute_result"
    },
    {
     "data": {
      "image/png": "[encoded data removed]",
      "text/plain": [
       "<Figure size 432x288 with 2 Axes>"
      ]
     },
     "metadata": {
      "needs_background": "light"
     },
     "output_type": "display_data"
    }
   ],
   "source": [
    "max_raw = max(raw)\n",
    "min_raw = min(raw)\n",
    "scaled = (2*raw - max_raw - min_raw)/(max_raw - min_raw)\n",
    "\n",
    "fig, axs = plt.subplots(2, 1, sharex = True)\n",
    "\n",
    "axs[0].hist(raw)\n",
    "axs[1].hist(scaled)"
   ]
  },
  {
   "cell_type": "markdown",
   "metadata": {},
   "source": [
    "#### Modelos para entrenamiento"
   ]
  },
  {
   "cell_type": "code",
   "execution_count": 4,
   "metadata": {},
   "outputs": [],
   "source": [
    "def train_raw():\n",
    "    linear_model.LinearRegression().fit(raw, y)\n",
    "\n",
    "def train_scaled():\n",
    "    linear_model.LinearRegression().fit(scaled, y)"
   ]
  },
  {
   "cell_type": "code",
   "execution_count": 5,
   "metadata": {},
   "outputs": [
    {
     "name": "stdout",
     "output_type": "stream",
     "text": [
      "train raw: 0.1702090999997381\n",
      "train scaled: 0.06811279999965336\n"
     ]
    }
   ],
   "source": [
    "raw_time = timeit.timeit(train_raw, number=100)\n",
    "scaled_time = timeit.timeit(train_scaled, number=100)\n",
    "print(f'train raw: {raw_time}')\n",
    "print(f'train scaled: {scaled_time}')"
   ]
  },
  {
   "cell_type": "code",
   "execution_count": 19,
   "metadata": {},
   "outputs": [],
   "source": [
    "def z_score(x):\n",
    "    std = x.std()\n",
    "    mean = x.mean()\n",
    "    z = [(y-mean)/std for y in x]\n",
    "    return z"
   ]
  },
  {
   "cell_type": "code",
   "execution_count": 20,
   "metadata": {},
   "outputs": [],
   "source": [
    "z_scaled = z_score(raw)"
   ]
  },
  {
   "cell_type": "code",
   "execution_count": 21,
   "metadata": {},
   "outputs": [
    {
     "data": {
      "text/plain": [
       "(array([[0., 0., 0., ..., 0., 0., 0.],\n",
       "        [0., 1., 0., ..., 0., 0., 0.],\n",
       "        [0., 0., 0., ..., 0., 0., 0.],\n",
       "        ...,\n",
       "        [0., 0., 1., ..., 0., 0., 0.],\n",
       "        [0., 0., 0., ..., 0., 0., 0.],\n",
       "        [1., 0., 0., ..., 0., 0., 0.]]),\n",
       " array([-1.89792941, -1.34956464, -0.80119987, -0.2528351 ,  0.29552967,\n",
       "         0.84389444,  1.39225921,  1.94062398,  2.48898875,  3.03735352,\n",
       "         3.58571828]),\n",
       " <a list of 442 BarContainer objects>)"
      ]
     },
     "execution_count": 21,
     "metadata": {},
     "output_type": "execute_result"
    },
    {
     "data": {
      "image/png": "[encoded data removed]",
      "text/plain": [
       "<Figure size 432x288 with 2 Axes>"
      ]
     },
     "metadata": {
      "needs_background": "light"
     },
     "output_type": "display_data"
    }
   ],
   "source": [
    "fig, axs = plt.subplots(2, 1, sharex = True)\n",
    "\n",
    "axs[0].hist(raw)\n",
    "axs[1].hist(z_scaled)"
   ]
  },
  {
   "cell_type": "markdown",
   "metadata": {},
   "source": [
    "* max-min scaling: mejor para datos uniformemente distribuidos.\n",
    "* z-score scaling: mejor para datos distribuidos\"normalmente\" (forma de campana de Gauss)"
   ]
  },
  {
   "cell_type": "markdown",
   "metadata": {},
   "source": [
    "Utilidades de Scikit Learn : https://scikit-learn.org/stable/modules/preprocessing.html"
   ]
  },
  {
   "cell_type": "markdown",
   "metadata": {},
   "source": [
    "#### Transformaciones no lineales"
   ]
  },
  {
   "cell_type": "code",
   "execution_count": 22,
   "metadata": {},
   "outputs": [
    {
     "data": {
      "text/html": [
       "<div>\n",
       "<style scoped>\n",
       "    .dataframe tbody tr th:only-of-type {\n",
       "        vertical-align: middle;\n",
       "    }\n",
       "\n",
       "    .dataframe tbody tr th {\n",
       "        vertical-align: top;\n",
       "    }\n",
       "\n",
       "    .dataframe thead th {\n",
       "        text-align: right;\n",
       "    }\n",
       "</style>\n",
       "<table border=\"1\" class=\"dataframe\">\n",
       "  <thead>\n",
       "    <tr style=\"text-align: right;\">\n",
       "      <th></th>\n",
       "      <th>manufacturer_name</th>\n",
       "      <th>model_name</th>\n",
       "      <th>transmission</th>\n",
       "      <th>color</th>\n",
       "      <th>odometer_value</th>\n",
       "      <th>year_produced</th>\n",
       "      <th>engine_fuel</th>\n",
       "      <th>engine_has_gas</th>\n",
       "      <th>engine_type</th>\n",
       "      <th>engine_capacity</th>\n",
       "      <th>...</th>\n",
       "      <th>feature_1</th>\n",
       "      <th>feature_2</th>\n",
       "      <th>feature_3</th>\n",
       "      <th>feature_4</th>\n",
       "      <th>feature_5</th>\n",
       "      <th>feature_6</th>\n",
       "      <th>feature_7</th>\n",
       "      <th>feature_8</th>\n",
       "      <th>feature_9</th>\n",
       "      <th>duration_listed</th>\n",
       "    </tr>\n",
       "  </thead>\n",
       "  <tbody>\n",
       "    <tr>\n",
       "      <th>29467</th>\n",
       "      <td>BMW</td>\n",
       "      <td>320</td>\n",
       "      <td>mechanical</td>\n",
       "      <td>blue</td>\n",
       "      <td>310000</td>\n",
       "      <td>2004</td>\n",
       "      <td>gasoline</td>\n",
       "      <td>False</td>\n",
       "      <td>gasoline</td>\n",
       "      <td>2.2</td>\n",
       "      <td>...</td>\n",
       "      <td>True</td>\n",
       "      <td>True</td>\n",
       "      <td>False</td>\n",
       "      <td>True</td>\n",
       "      <td>True</td>\n",
       "      <td>True</td>\n",
       "      <td>True</td>\n",
       "      <td>True</td>\n",
       "      <td>True</td>\n",
       "      <td>61</td>\n",
       "    </tr>\n",
       "    <tr>\n",
       "      <th>19001</th>\n",
       "      <td>Volkswagen</td>\n",
       "      <td>T5</td>\n",
       "      <td>mechanical</td>\n",
       "      <td>other</td>\n",
       "      <td>95000</td>\n",
       "      <td>2014</td>\n",
       "      <td>diesel</td>\n",
       "      <td>False</td>\n",
       "      <td>diesel</td>\n",
       "      <td>2.0</td>\n",
       "      <td>...</td>\n",
       "      <td>True</td>\n",
       "      <td>False</td>\n",
       "      <td>True</td>\n",
       "      <td>False</td>\n",
       "      <td>False</td>\n",
       "      <td>False</td>\n",
       "      <td>False</td>\n",
       "      <td>True</td>\n",
       "      <td>True</td>\n",
       "      <td>99</td>\n",
       "    </tr>\n",
       "    <tr>\n",
       "      <th>18101</th>\n",
       "      <td>Volkswagen</td>\n",
       "      <td>Polo Sedan</td>\n",
       "      <td>automatic</td>\n",
       "      <td>blue</td>\n",
       "      <td>19100</td>\n",
       "      <td>2018</td>\n",
       "      <td>gasoline</td>\n",
       "      <td>False</td>\n",
       "      <td>gasoline</td>\n",
       "      <td>1.6</td>\n",
       "      <td>...</td>\n",
       "      <td>True</td>\n",
       "      <td>False</td>\n",
       "      <td>True</td>\n",
       "      <td>False</td>\n",
       "      <td>True</td>\n",
       "      <td>False</td>\n",
       "      <td>True</td>\n",
       "      <td>False</td>\n",
       "      <td>True</td>\n",
       "      <td>48</td>\n",
       "    </tr>\n",
       "    <tr>\n",
       "      <th>18213</th>\n",
       "      <td>Volkswagen</td>\n",
       "      <td>Passat</td>\n",
       "      <td>mechanical</td>\n",
       "      <td>orange</td>\n",
       "      <td>280000</td>\n",
       "      <td>2004</td>\n",
       "      <td>diesel</td>\n",
       "      <td>False</td>\n",
       "      <td>diesel</td>\n",
       "      <td>1.9</td>\n",
       "      <td>...</td>\n",
       "      <td>True</td>\n",
       "      <td>True</td>\n",
       "      <td>False</td>\n",
       "      <td>True</td>\n",
       "      <td>True</td>\n",
       "      <td>False</td>\n",
       "      <td>False</td>\n",
       "      <td>True</td>\n",
       "      <td>True</td>\n",
       "      <td>44</td>\n",
       "    </tr>\n",
       "    <tr>\n",
       "      <th>14751</th>\n",
       "      <td>Seat</td>\n",
       "      <td>Altea</td>\n",
       "      <td>mechanical</td>\n",
       "      <td>grey</td>\n",
       "      <td>175000</td>\n",
       "      <td>2004</td>\n",
       "      <td>gasoline</td>\n",
       "      <td>False</td>\n",
       "      <td>gasoline</td>\n",
       "      <td>1.6</td>\n",
       "      <td>...</td>\n",
       "      <td>True</td>\n",
       "      <td>False</td>\n",
       "      <td>False</td>\n",
       "      <td>False</td>\n",
       "      <td>False</td>\n",
       "      <td>False</td>\n",
       "      <td>False</td>\n",
       "      <td>True</td>\n",
       "      <td>True</td>\n",
       "      <td>49</td>\n",
       "    </tr>\n",
       "    <tr>\n",
       "      <th>5982</th>\n",
       "      <td>Lancia</td>\n",
       "      <td>Lybra</td>\n",
       "      <td>mechanical</td>\n",
       "      <td>other</td>\n",
       "      <td>282000</td>\n",
       "      <td>2000</td>\n",
       "      <td>diesel</td>\n",
       "      <td>False</td>\n",
       "      <td>diesel</td>\n",
       "      <td>2.4</td>\n",
       "      <td>...</td>\n",
       "      <td>True</td>\n",
       "      <td>False</td>\n",
       "      <td>False</td>\n",
       "      <td>False</td>\n",
       "      <td>False</td>\n",
       "      <td>False</td>\n",
       "      <td>False</td>\n",
       "      <td>False</td>\n",
       "      <td>True</td>\n",
       "      <td>34</td>\n",
       "    </tr>\n",
       "    <tr>\n",
       "      <th>2293</th>\n",
       "      <td>Opel</td>\n",
       "      <td>Astra</td>\n",
       "      <td>mechanical</td>\n",
       "      <td>black</td>\n",
       "      <td>215323</td>\n",
       "      <td>2007</td>\n",
       "      <td>gasoline</td>\n",
       "      <td>False</td>\n",
       "      <td>gasoline</td>\n",
       "      <td>1.6</td>\n",
       "      <td>...</td>\n",
       "      <td>True</td>\n",
       "      <td>False</td>\n",
       "      <td>False</td>\n",
       "      <td>False</td>\n",
       "      <td>False</td>\n",
       "      <td>False</td>\n",
       "      <td>False</td>\n",
       "      <td>True</td>\n",
       "      <td>False</td>\n",
       "      <td>15</td>\n",
       "    </tr>\n",
       "    <tr>\n",
       "      <th>30008</th>\n",
       "      <td>BMW</td>\n",
       "      <td>530</td>\n",
       "      <td>mechanical</td>\n",
       "      <td>black</td>\n",
       "      <td>350000</td>\n",
       "      <td>2001</td>\n",
       "      <td>diesel</td>\n",
       "      <td>False</td>\n",
       "      <td>diesel</td>\n",
       "      <td>3.0</td>\n",
       "      <td>...</td>\n",
       "      <td>True</td>\n",
       "      <td>True</td>\n",
       "      <td>True</td>\n",
       "      <td>True</td>\n",
       "      <td>False</td>\n",
       "      <td>False</td>\n",
       "      <td>False</td>\n",
       "      <td>True</td>\n",
       "      <td>True</td>\n",
       "      <td>156</td>\n",
       "    </tr>\n",
       "    <tr>\n",
       "      <th>26927</th>\n",
       "      <td>Nissan</td>\n",
       "      <td>Qashqai</td>\n",
       "      <td>mechanical</td>\n",
       "      <td>silver</td>\n",
       "      <td>122000</td>\n",
       "      <td>2012</td>\n",
       "      <td>gasoline</td>\n",
       "      <td>False</td>\n",
       "      <td>gasoline</td>\n",
       "      <td>1.6</td>\n",
       "      <td>...</td>\n",
       "      <td>True</td>\n",
       "      <td>False</td>\n",
       "      <td>True</td>\n",
       "      <td>False</td>\n",
       "      <td>True</td>\n",
       "      <td>False</td>\n",
       "      <td>False</td>\n",
       "      <td>True</td>\n",
       "      <td>False</td>\n",
       "      <td>53</td>\n",
       "    </tr>\n",
       "    <tr>\n",
       "      <th>13298</th>\n",
       "      <td>Renault</td>\n",
       "      <td>Sandero</td>\n",
       "      <td>mechanical</td>\n",
       "      <td>black</td>\n",
       "      <td>58000</td>\n",
       "      <td>2013</td>\n",
       "      <td>gasoline</td>\n",
       "      <td>False</td>\n",
       "      <td>gasoline</td>\n",
       "      <td>1.6</td>\n",
       "      <td>...</td>\n",
       "      <td>True</td>\n",
       "      <td>False</td>\n",
       "      <td>False</td>\n",
       "      <td>False</td>\n",
       "      <td>False</td>\n",
       "      <td>False</td>\n",
       "      <td>False</td>\n",
       "      <td>False</td>\n",
       "      <td>True</td>\n",
       "      <td>129</td>\n",
       "    </tr>\n",
       "  </tbody>\n",
       "</table>\n",
       "<p>10 rows × 30 columns</p>\n",
       "</div>"
      ],
      "text/plain": [
       "      manufacturer_name  model_name transmission   color  odometer_value  \\\n",
       "29467               BMW         320   mechanical    blue          310000   \n",
       "19001        Volkswagen          T5   mechanical   other           95000   \n",
       "18101        Volkswagen  Polo Sedan    automatic    blue           19100   \n",
       "18213        Volkswagen      Passat   mechanical  orange          280000   \n",
       "14751              Seat       Altea   mechanical    grey          175000   \n",
       "5982             Lancia       Lybra   mechanical   other          282000   \n",
       "2293               Opel       Astra   mechanical   black          215323   \n",
       "30008               BMW         530   mechanical   black          350000   \n",
       "26927            Nissan     Qashqai   mechanical  silver          122000   \n",
       "13298           Renault     Sandero   mechanical   black           58000   \n",
       "\n",
       "       year_produced engine_fuel  engine_has_gas engine_type  engine_capacity  \\\n",
       "29467           2004    gasoline           False    gasoline              2.2   \n",
       "19001           2014      diesel           False      diesel              2.0   \n",
       "18101           2018    gasoline           False    gasoline              1.6   \n",
       "18213           2004      diesel           False      diesel              1.9   \n",
       "14751           2004    gasoline           False    gasoline              1.6   \n",
       "5982            2000      diesel           False      diesel              2.4   \n",
       "2293            2007    gasoline           False    gasoline              1.6   \n",
       "30008           2001      diesel           False      diesel              3.0   \n",
       "26927           2012    gasoline           False    gasoline              1.6   \n",
       "13298           2013    gasoline           False    gasoline              1.6   \n",
       "\n",
       "       ... feature_1  feature_2 feature_3 feature_4  feature_5  feature_6  \\\n",
       "29467  ...      True       True     False      True       True       True   \n",
       "19001  ...      True      False      True     False      False      False   \n",
       "18101  ...      True      False      True     False       True      False   \n",
       "18213  ...      True       True     False      True       True      False   \n",
       "14751  ...      True      False     False     False      False      False   \n",
       "5982   ...      True      False     False     False      False      False   \n",
       "2293   ...      True      False     False     False      False      False   \n",
       "30008  ...      True       True      True      True      False      False   \n",
       "26927  ...      True      False      True     False       True      False   \n",
       "13298  ...      True      False     False     False      False      False   \n",
       "\n",
       "      feature_7  feature_8  feature_9  duration_listed  \n",
       "29467      True       True       True               61  \n",
       "19001     False       True       True               99  \n",
       "18101      True      False       True               48  \n",
       "18213     False       True       True               44  \n",
       "14751     False       True       True               49  \n",
       "5982      False      False       True               34  \n",
       "2293      False       True      False               15  \n",
       "30008     False       True       True              156  \n",
       "26927     False       True      False               53  \n",
       "13298     False      False       True              129  \n",
       "\n",
       "[10 rows x 30 columns]"
      ]
     },
     "execution_count": 22,
     "metadata": {},
     "output_type": "execute_result"
    }
   ],
   "source": [
    "df = pd.read_csv('db/cars.csv')\n",
    "df.sample(10)"
   ]
  },
  {
   "cell_type": "code",
   "execution_count": 23,
   "metadata": {},
   "outputs": [
    {
     "data": {
      "text/plain": [
       "<AxesSubplot:>"
      ]
     },
     "execution_count": 23,
     "metadata": {},
     "output_type": "execute_result"
    },
    {
     "data": {
      "image/png": "[encoded data removed]",
      "text/plain": [
       "<Figure size 432x288 with 1 Axes>"
      ]
     },
     "metadata": {
      "needs_background": "light"
     },
     "output_type": "display_data"
    }
   ],
   "source": [
    "df.price_usd.hist()"
   ]
  },
  {
   "cell_type": "markdown",
   "metadata": {},
   "source": [
    "Transformación con $$tanh(x)$$"
   ]
  },
  {
   "cell_type": "code",
   "execution_count": 24,
   "metadata": {},
   "outputs": [
    {
     "data": {
      "text/plain": [
       "<AxesSubplot:>"
      ]
     },
     "execution_count": 24,
     "metadata": {},
     "output_type": "execute_result"
    },
    {
     "data": {
      "image/png": "[encoded data removed]",
      "text/plain": [
       "<Figure size 432x288 with 1 Axes>"
      ]
     },
     "metadata": {
      "needs_background": "light"
     },
     "output_type": "display_data"
    }
   ],
   "source": [
    "p = 10000\n",
    "df.price_usd.apply(lambda x: np.tanh(x/p)).hist()"
   ]
  },
  {
   "cell_type": "markdown",
   "metadata": {},
   "source": [
    "* mapear datos a una distribución gaussiana: https://scikit-learn.org/stable/auto_examples/preprocessing/plot_map_data_to_normal.html"
   ]
  }
 ],
 "metadata": {
  "interpreter": {
   "hash": "607e81ae0db8c82128fbe2c9b028ea8b0bff29b1207fdcd1a9d43ac2395fca19"
  },
  "kernelspec": {
   "display_name": "Python 3.9.7 ('base')",
   "language": "python",
   "name": "python3"
  },
  "language_info": {
   "codemirror_mode": {
    "name": "ipython",
    "version": 3
   },
   "file_extension": ".py",
   "mimetype": "text/x-python",
   "name": "python",
   "nbconvert_exporter": "python",
   "pygments_lexer": "ipython3",
   "version": "3.9.7"
  },
  "orig_nbformat": 4
 },
 "nbformat": 4,
 "nbformat_minor": 2
}
