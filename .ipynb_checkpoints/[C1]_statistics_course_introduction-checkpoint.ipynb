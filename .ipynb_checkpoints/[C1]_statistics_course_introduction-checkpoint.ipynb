{
 "cells": [
  {
   "cell_type": "markdown",
   "id": "1b446d62",
   "metadata": {},
   "source": [
    "# Flujos de Trabajo en Ciencia de Datos"
   ]
  },
  {
   "cell_type": "markdown",
   "id": "a429f4e7",
   "metadata": {},
   "source": [
    "## Tipos de datos, pipeline de procesamiento\n",
    "* Ingesta de datos.\n",
    "* Validación"
   ]
  },
  {
   "cell_type": "markdown",
   "id": "20093ae7",
   "metadata": {},
   "source": [
    "## Análisis exploratorio, estadística descriptiva, correlaciones, reducciones de datos\n",
    "* Preparación\n",
    "* Entrenamiento modelo"
   ]
  },
  {
   "cell_type": "markdown",
   "id": "8bca5d1b",
   "metadata": {},
   "source": [
    "## Probabilidad e inferencia\n",
    "* Evaluación modelo\n",
    "* ## Test de hipótesis\n",
    "* Modelo de producción\n",
    "* Interacción usuario final"
   ]
  },
  {
   "cell_type": "markdown",
   "id": "78952962",
   "metadata": {},
   "source": [
    "# Plan del Curso"
   ]
  },
  {
   "cell_type": "markdown",
   "id": "5dcc02d3",
   "metadata": {},
   "source": [
    "## 1. Estadísticos para ingeesta y procesamiento\n",
    "## 2. Estadísticos para analítica y exploración"
   ]
  }
 ],
 "metadata": {
  "kernelspec": {
   "display_name": "Python 3 (ipykernel)",
   "language": "python",
   "name": "python3"
  },
  "language_info": {
   "codemirror_mode": {
    "name": "ipython",
    "version": 3
   },
   "file_extension": ".py",
   "mimetype": "text/x-python",
   "name": "python",
   "nbconvert_exporter": "python",
   "pygments_lexer": "ipython3",
   "version": "3.10.1"
  }
 },
 "nbformat": 4,
 "nbformat_minor": 5
}
