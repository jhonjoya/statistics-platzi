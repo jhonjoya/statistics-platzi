{
 "cells": [
  {
   "cell_type": "markdown",
   "id": "ac61b807",
   "metadata": {},
   "source": [
    "# Flujos de Trabajo en Ciencia de Datos"
   ]
  },
  {
   "cell_type": "markdown",
   "id": "b8043e1e",
   "metadata": {},
   "source": [
    "## Tipos de datos, pipeline de procesamiento\n",
    "* Ingesta de datos.\n",
    "* Validación"
   ]
  },
  {
   "cell_type": "markdown",
   "id": "05576701",
   "metadata": {},
   "source": [
    "## Análisis exploratorio, estadística descriptiva, correlaciones, reducciones de datos\n",
    "* Preparación\n",
    "* Entrenamiento modelo"
   ]
  },
  {
   "cell_type": "markdown",
   "id": "5426956a",
   "metadata": {},
   "source": [
    "## Probabilidad e inferencia\n",
    "* Evaluación modelo\n",
    "* ## Test de hipótesis\n",
    "* Modelo de producción\n",
    "* Interacción usuario final"
   ]
  },
  {
   "cell_type": "markdown",
   "id": "cbaff81a",
   "metadata": {},
   "source": [
    "# Plan del Curso"
   ]
  },
  {
   "cell_type": "markdown",
   "id": "a9196f5e",
   "metadata": {},
   "source": [
    "## 1. Estadísticos para ingesta y procesamiento\n",
    "## 2. Estadísticos para analítica y exploración"
   ]
  },
  {
   "cell_type": "code",
   "execution_count": null,
   "id": "74ffaa81",
   "metadata": {},
   "outputs": [],
   "source": []
  }
 ],
 "metadata": {
  "kernelspec": {
   "display_name": "Python 3 (ipykernel)",
   "language": "python",
   "name": "python3"
  },
  "language_info": {
   "codemirror_mode": {
    "name": "ipython",
    "version": 3
   },
   "file_extension": ".py",
   "mimetype": "text/x-python",
   "name": "python",
   "nbconvert_exporter": "python",
   "pygments_lexer": "ipython3",
   "version": "3.10.1"
  }
 },
 "nbformat": 4,
 "nbformat_minor": 5
}
